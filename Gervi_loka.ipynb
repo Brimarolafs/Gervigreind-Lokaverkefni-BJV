{
 "cells": [
  {
   "cell_type": "code",
   "execution_count": null,
   "metadata": {},
   "outputs": [
    {
     "ename": "",
     "evalue": "",
     "output_type": "error",
     "traceback": [
      "\u001b[1;31mJupyter cannot be started. Error attempting to locate Jupyter: Select an Interpreter to start Jupyter\n",
      "\u001b[1;31mRun the following command to install 'jupyter and notebook' into the Python environment. \n",
      "\u001b[1;31mCommand: 'python -m pip install jupyter notebook -U\n",
      "\u001b[1;31mor\n",
      "\u001b[1;31mconda install jupyter notebook -U'\n",
      "\u001b[1;31mClick <a href='https://aka.ms/installJupyterForVSCode'>here</a> for more info."
     ]
    }
   ],
   "source": [
    "#make autoencoder\n",
    "import numpy as np\n",
    "import tensorflow as tf\n",
    "import tensorflow.keras as keras\n",
    "from keras.models import Sequential\n",
    "from keras.layers import Dense, Activation\n",
    "from keras.utils import np_utils\n",
    "from keras import optimizers\n",
    "from tensorflow.keras import layers\n",
    "from keras.layers import Input, Dense, Conv2D, MaxPooling2D, UpSampling2D\n",
    "\n",
    "#input is 819 transparent Pokemon images in png format size 256x256.\n",
    "#output is 819 transparent Pokemon images in png format size 256x256.\n",
    "\n",
    "#add encoded and decoded\n",
    "\n",
    "#If input shape is (256,256,4) the first con\n",
    "\n",
    "input_shape = keras.Input(shape=(256, 256, 4))\n",
    "\n",
    "x = layers.Conv2D(64, 3, activation=\"relu\", padding=\"same\")(input_shape)\n",
    "x = layers.MaxPooling2D(2, padding=\"same\")(x)\n",
    "x = layers.Conv2D(32, 3, activation=\"relu\", padding=\"same\")(x)\n",
    "x = layers.MaxPooling2D(2, padding=\"same\")(x)\n",
    "x = layers.Conv2D(16, 3, activation=\"relu\", padding=\"same\")(x)\n",
    "x = layers.MaxPooling2D(2, padding=\"same\")(x)\n",
    "x = layers.Conv2D(8, 3, activation=\"relu\", padding=\"same\")(x)\n",
    "encoded = layers.MaxPooling2D(2, padding=\"same\")(x)\n",
    "\n",
    "# at this point the representation is (16, 16, 8) i.e. 2048-dimensional\n",
    "\n",
    "x = layers.Conv2D(8, 3, activation=\"relu\", padding=\"same\")(encoded)\n",
    "x = layers.UpSampling2D(2)(x)\n",
    "x = layers.Conv2D(16, 3, activation=\"relu\", padding=\"same\")(x)\n",
    "x = layers.UpSampling2D(2)(x)\n",
    "x = layers.Conv2D(32, 3, activation=\"relu\")(x)\n",
    "x = layers.UpSampling2D(2)(x)\n",
    "x = layers.Conv2D(64, 3, activation=\"relu\")(x)\n",
    "x = layers.UpSampling2D(2)(x)\n",
    "decoded = layers.Conv2D(4, 3, activation=\"sigmoid\", padding=\"same\")(x)\n",
    "\n",
    "autoencoder = keras.Model(input_shape, decoded)\n",
    "\n",
    "autoencoder.compile(optimizer='adam', loss='binary_crossentropy')\n",
    "\n",
    "autoencoder.summary()\n"
   ]
  }
 ],
 "metadata": {
  "kernelspec": {
   "display_name": "Python 3.10.6",
   "language": "python",
   "name": "python3"
  },
  "language_info": {
   "name": "python",
   "version": "3.10.6"
  },
  "orig_nbformat": 4,
  "vscode": {
   "interpreter": {
    "hash": "b04c7849f1ac8790d524d59aa006d82d316d528e553779239feb43c80cd5d451"
   }
  }
 },
 "nbformat": 4,
 "nbformat_minor": 2
}
